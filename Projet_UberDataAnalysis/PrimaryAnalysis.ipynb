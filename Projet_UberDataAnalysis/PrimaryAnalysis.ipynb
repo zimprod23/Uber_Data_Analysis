{
 "cells": [
  {
   "cell_type": "code",
   "execution_count": 1,
   "metadata": {},
   "outputs": [],
   "source": [
    "# Importing Libraries\n",
    "import pandas as pd\n",
    "import numpy as np\n",
    "import matplotlib.pyplot as plt\n",
    "import matplotlib\n",
    "import os"
   ]
  },
  {
   "cell_type": "code",
   "execution_count": 2,
   "metadata": {},
   "outputs": [],
   "source": [
    " %matplotlib inline\n",
    " matplotlib.rcParams.update({'font.size': 12})"
   ]
  },
  {
   "cell_type": "markdown",
   "metadata": {},
   "source": [
    "__Création de la class *DataVisual* pour organiser l analyse des données__"
   ]
  },
  {
   "cell_type": "code",
   "execution_count": 3,
   "metadata": {},
   "outputs": [],
   "source": [
    "class DataVisual():\n",
    "    def __init__(self,file_name,path=None):\n",
    "        self.file_name = file_name\n",
    "        self.path = path\n",
    "        self.displayer = plt\n",
    "        self.data  = None\n",
    "\n",
    "    @property\n",
    "    def fullPath(self):\n",
    "        return f'{self.path}\\\\{self.file_name}'   \n",
    "\n",
    "\n",
    "    @fullPath.setter\n",
    "    def fullPath(self,data):\n",
    "        path,name = data.split(\" \")\n",
    "        self.file_name = name\n",
    "        self.path = path\n",
    "\n",
    "    def read_data(self):\n",
    "        self.data = pd.read_csv(self.fullPath)\n",
    "    \n",
    "    def fig_config(self,w,h):\n",
    "        self.displayer.figure(figsize=(w,h))\n",
    "    \n",
    "\n",
    "    @classmethod\n",
    "    def from_name(cls,file_name):\n",
    "        return cls(file_name,f'{os.getcwd()}\\\\data')\n",
    "\n",
    "    @staticmethod\n",
    "    def ploter(plot_func):\n",
    "        def graph(*args):\n",
    "            plot_func(*args)\n",
    "        return graph\n",
    "\n",
    "    \n",
    "     "
   ]
  },
  {
   "cell_type": "markdown",
   "metadata": {},
   "source": [
    "### On va essayer dans un premier temps de comprendre les ```Features``` pour une bonne analyse"
   ]
  },
  {
   "cell_type": "code",
   "execution_count": 4,
   "metadata": {},
   "outputs": [
    {
     "data": {
      "text/html": [
       "<div>\n",
       "<style scoped>\n",
       "    .dataframe tbody tr th:only-of-type {\n",
       "        vertical-align: middle;\n",
       "    }\n",
       "\n",
       "    .dataframe tbody tr th {\n",
       "        vertical-align: top;\n",
       "    }\n",
       "\n",
       "    .dataframe thead th {\n",
       "        text-align: right;\n",
       "    }\n",
       "</style>\n",
       "<table border=\"1\" class=\"dataframe\">\n",
       "  <thead>\n",
       "    <tr style=\"text-align: right;\">\n",
       "      <th></th>\n",
       "      <th>Date/Time</th>\n",
       "      <th>Lat</th>\n",
       "      <th>Lon</th>\n",
       "      <th>Base</th>\n",
       "    </tr>\n",
       "  </thead>\n",
       "  <tbody>\n",
       "    <tr>\n",
       "      <th>0</th>\n",
       "      <td>7/1/2014 0:03:00</td>\n",
       "      <td>40.7586</td>\n",
       "      <td>-73.9706</td>\n",
       "      <td>B02512</td>\n",
       "    </tr>\n",
       "    <tr>\n",
       "      <th>1</th>\n",
       "      <td>7/1/2014 0:05:00</td>\n",
       "      <td>40.7605</td>\n",
       "      <td>-73.9994</td>\n",
       "      <td>B02512</td>\n",
       "    </tr>\n",
       "    <tr>\n",
       "      <th>2</th>\n",
       "      <td>7/1/2014 0:06:00</td>\n",
       "      <td>40.7320</td>\n",
       "      <td>-73.9999</td>\n",
       "      <td>B02512</td>\n",
       "    </tr>\n",
       "    <tr>\n",
       "      <th>3</th>\n",
       "      <td>7/1/2014 0:09:00</td>\n",
       "      <td>40.7635</td>\n",
       "      <td>-73.9793</td>\n",
       "      <td>B02512</td>\n",
       "    </tr>\n",
       "    <tr>\n",
       "      <th>4</th>\n",
       "      <td>7/1/2014 0:20:00</td>\n",
       "      <td>40.7204</td>\n",
       "      <td>-74.0047</td>\n",
       "      <td>B02512</td>\n",
       "    </tr>\n",
       "  </tbody>\n",
       "</table>\n",
       "</div>"
      ],
      "text/plain": [
       "          Date/Time      Lat      Lon    Base\n",
       "0  7/1/2014 0:03:00  40.7586 -73.9706  B02512\n",
       "1  7/1/2014 0:05:00  40.7605 -73.9994  B02512\n",
       "2  7/1/2014 0:06:00  40.7320 -73.9999  B02512\n",
       "3  7/1/2014 0:09:00  40.7635 -73.9793  B02512\n",
       "4  7/1/2014 0:20:00  40.7204 -74.0047  B02512"
      ]
     },
     "execution_count": 4,
     "metadata": {},
     "output_type": "execute_result"
    }
   ],
   "source": [
    "\n",
    "Visualizer = DataVisual.from_name('uber-raw-data-jul14.csv')\n",
    "Visualizer.read_data()\n",
    "Visualizer.data.head(5)"
   ]
  },
  {
   "cell_type": "markdown",
   "metadata": {},
   "source": [
    "#### Explication des variables : \n",
    "***\n",
    "- Date/Time : La date et l'horaire de <span>Uber pickup</span>\n",
    "- Lat/Lon : Latitude et Longitude \n",
    "- Base : Le code d'entreprise de base TLC affilié au pick-up Uber Avec des valeur possible comme suit\n"
   ]
  },
  {
   "cell_type": "markdown",
   "metadata": {},
   "source": [
    "|B02512|B02598|B02617|B02682|B02764|\n",
    "|------|------|------|------|------|\n",
    "|Untert|Hinter|Weiter|Schmecken|Danach|"
   ]
  },
  {
   "cell_type": "markdown",
   "metadata": {},
   "source": [
    "## Maintenant on va commencer la visualizatiokn des donnees"
   ]
  },
  {
   "cell_type": "markdown",
   "metadata": {},
   "source": [
    "![](./Visual.jpeg)"
   ]
  },
  {
   "cell_type": "markdown",
   "metadata": {},
   "source": [
    "####  le champs ```Date/Time``` est de type String alors on va le changer en Datetime"
   ]
  },
  {
   "cell_type": "code",
   "execution_count": 5,
   "metadata": {},
   "outputs": [],
   "source": [
    "Visualizer.data['Date/Time'] = pd.to_datetime(Visualizer.data['Date/Time'] )"
   ]
  },
  {
   "cell_type": "markdown",
   "metadata": {},
   "source": [
    "On groupe les valuers de Date/Time par 15 min pour faciliter la visualization"
   ]
  },
  {
   "cell_type": "code",
   "execution_count": 6,
   "metadata": {},
   "outputs": [],
   "source": [
    "Visualizer.data['Floored'] = Visualizer.data['Date/Time'].dt.floor('15min')"
   ]
  },
  {
   "cell_type": "code",
   "execution_count": 7,
   "metadata": {},
   "outputs": [
    {
     "data": {
      "text/plain": [
       "2014-07-07 02:30:00     10\n",
       "2014-07-07 02:00:00     12\n",
       "2014-07-07 02:15:00     14\n",
       "2014-07-07 01:45:00     15\n",
       "2014-07-01 01:30:00     17\n",
       "                      ... \n",
       "2014-07-15 20:00:00    861\n",
       "2014-07-15 18:00:00    872\n",
       "2014-07-15 17:45:00    877\n",
       "2014-07-15 18:15:00    879\n",
       "2014-07-15 19:15:00    915\n",
       "Name: Floored, Length: 2976, dtype: int64"
      ]
     },
     "execution_count": 7,
     "metadata": {},
     "output_type": "execute_result"
    }
   ],
   "source": [
    "Visualizer.data['Floored'].value_counts().sort_values()"
   ]
  },
  {
   "cell_type": "code",
   "execution_count": 8,
   "metadata": {},
   "outputs": [
    {
     "data": {
      "text/html": [
       "<div>\n",
       "<style scoped>\n",
       "    .dataframe tbody tr th:only-of-type {\n",
       "        vertical-align: middle;\n",
       "    }\n",
       "\n",
       "    .dataframe tbody tr th {\n",
       "        vertical-align: top;\n",
       "    }\n",
       "\n",
       "    .dataframe thead th {\n",
       "        text-align: right;\n",
       "    }\n",
       "</style>\n",
       "<table border=\"1\" class=\"dataframe\">\n",
       "  <thead>\n",
       "    <tr style=\"text-align: right;\">\n",
       "      <th></th>\n",
       "      <th>Date/Time</th>\n",
       "      <th>Floored</th>\n",
       "    </tr>\n",
       "  </thead>\n",
       "  <tbody>\n",
       "    <tr>\n",
       "      <th>0</th>\n",
       "      <td>2014-07-01 00:03:00</td>\n",
       "      <td>2014-07-01 00:00:00</td>\n",
       "    </tr>\n",
       "    <tr>\n",
       "      <th>1</th>\n",
       "      <td>2014-07-01 00:05:00</td>\n",
       "      <td>2014-07-01 00:00:00</td>\n",
       "    </tr>\n",
       "    <tr>\n",
       "      <th>2</th>\n",
       "      <td>2014-07-01 00:06:00</td>\n",
       "      <td>2014-07-01 00:00:00</td>\n",
       "    </tr>\n",
       "    <tr>\n",
       "      <th>3</th>\n",
       "      <td>2014-07-01 00:09:00</td>\n",
       "      <td>2014-07-01 00:00:00</td>\n",
       "    </tr>\n",
       "    <tr>\n",
       "      <th>4</th>\n",
       "      <td>2014-07-01 00:20:00</td>\n",
       "      <td>2014-07-01 00:15:00</td>\n",
       "    </tr>\n",
       "  </tbody>\n",
       "</table>\n",
       "</div>"
      ],
      "text/plain": [
       "            Date/Time             Floored\n",
       "0 2014-07-01 00:03:00 2014-07-01 00:00:00\n",
       "1 2014-07-01 00:05:00 2014-07-01 00:00:00\n",
       "2 2014-07-01 00:06:00 2014-07-01 00:00:00\n",
       "3 2014-07-01 00:09:00 2014-07-01 00:00:00\n",
       "4 2014-07-01 00:20:00 2014-07-01 00:15:00"
      ]
     },
     "execution_count": 8,
     "metadata": {},
     "output_type": "execute_result"
    }
   ],
   "source": [
    "Visualizer.data[['Date/Time','Floored']].head(5)"
   ]
  },
  {
   "cell_type": "markdown",
   "metadata": {},
   "source": [
    "Visualization : <u>Uber pickups by base</u>\n",
    "\n",
    "On va exploiter ces données primitives après\n"
   ]
  },
  {
   "cell_type": "markdown",
   "metadata": {},
   "source": [
    "[Visual1](#hist-Base)"
   ]
  },
  {
   "cell_type": "code",
   "execution_count": 9,
   "metadata": {},
   "outputs": [
    {
     "data": {
      "text/plain": [
       "Text(0, 0.5, 'Number of Rides')"
      ]
     },
     "execution_count": 9,
     "metadata": {},
     "output_type": "execute_result"
    },
    {
     "data": {
      "image/png": "[encoded data removed]",
      "text/plain": [
       "<Figure size 1080x576 with 1 Axes>"
      ]
     },
     "metadata": {
      "needs_background": "light"
     },
     "output_type": "display_data"
    }
   ],
   "source": [
    "plt.figure(figsize=(15,8))\n",
    "Visualizer.data[\"Base\"].value_counts().sort_index().plot(kind=\"bar\",color=\"red\")\n",
    "plt.title('Uber Rides By Base')\n",
    "plt.xlabel('Base')\n",
    "plt.ylabel('Number of Rides')"
   ]
  },
  {
   "cell_type": "markdown",
   "metadata": {},
   "source": [
    "<p><p style=\"color : red\">remarque : </p>On note que les bases [B02617,B02598,B02682] ont un nombre plus élevées que les autre bases alors on suppose que ces base : </p>\n",
    "\n",
    "- Ont plus de véhicule\n",
    "- Effectue les pickups dans des zone plus actives touristique/travail ..."
   ]
  },
  {
   "cell_type": "markdown",
   "metadata": {},
   "source": [
    "[Visual2](#uber-rides-byweek)"
   ]
  },
  {
   "cell_type": "code",
   "execution_count": 10,
   "metadata": {},
   "outputs": [
    {
     "data": {
      "text/plain": [
       "Text(0, 0.5, 'Number of Rides')"
      ]
     },
     "execution_count": 10,
     "metadata": {},
     "output_type": "execute_result"
    },
    {
     "data": {
      "image/png": "[encoded data removed]",
      "text/plain": [
       "<Figure size 1080x576 with 1 Axes>"
      ]
     },
     "metadata": {
      "needs_background": "light"
     },
     "output_type": "display_data"
    }
   ],
   "source": [
    "plt.figure(figsize=(15,8))\n",
    "Visualizer.data['Floored'].dt.isocalendar().week.map({27:\"week1\",28:\"week2\",29:\"week3\",30:\"week4\",31:\"week5~\",}).value_counts().sort_index().plot(kind=\"bar\",color='blue')\n",
    "plt.title('Uber Rides per week')\n",
    "plt.xlabel('weeks')\n",
    "plt.ylabel('Number of Rides')"
   ]
  },
  {
   "cell_type": "markdown",
   "metadata": {},
   "source": [
    "[Visual3](#every-15-min)"
   ]
  },
  {
   "cell_type": "code",
   "execution_count": 11,
   "metadata": {},
   "outputs": [
    {
     "data": {
      "text/plain": [
       "Text(0, 0.5, 'Number of Rides')"
      ]
     },
     "execution_count": 11,
     "metadata": {},
     "output_type": "execute_result"
    },
    {
     "data": {
      "image/png": "[encoded data removed]",
      "text/plain": [
       "<Figure size 1080x576 with 1 Axes>"
      ]
     },
     "metadata": {
      "needs_background": "light"
     },
     "output_type": "display_data"
    }
   ],
   "source": [
    "plt.figure(figsize=(15,8))\n",
    "Visualizer.data['Floored'].dt.day.value_counts().sort_index().plot(kind='bar',color='blue')\n",
    "for item in plt.gca().get_xticklabels():\n",
    "    item.set_rotation(45)\n",
    "plt.title('Uber Rides per day')\n",
    "plt.xlabel('Days')\n",
    "plt.ylabel('Number of Rides')"
   ]
  },
  {
   "cell_type": "markdown",
   "metadata": {},
   "source": [
    "<p style=\"color : red\">remarque : </p>\n",
    "\n",
    "Le nombre des ```Uber-pickups``` parait normal __augmentation durant les jours de travail et diminution dans les weekend__\n",
    "[7,13,20,27] on suppose que [4,5,6] sont des jours férié\n"
   ]
  },
  {
   "cell_type": "markdown",
   "metadata": {},
   "source": [
    "[Visual4](#Every_15_min)\n",
    "\n",
    "For every 15 min"
   ]
  },
  {
   "cell_type": "code",
   "execution_count": 12,
   "metadata": {},
   "outputs": [
    {
     "data": {
      "text/plain": [
       "Text(0, 0.5, 'Rides')"
      ]
     },
     "execution_count": 12,
     "metadata": {},
     "output_type": "execute_result"
    },
    {
     "data": {
      "image/png": "[encoded data removed]",
      "text/plain": [
       "<Figure size 1080x576 with 1 Axes>"
      ]
     },
     "metadata": {
      "needs_background": "light"
     },
     "output_type": "display_data"
    }
   ],
   "source": [
    "plt.figure(figsize = (15,8))\n",
    "Visualizer.data['Floored'].value_counts().sort_index().plot(c='red',alpha=0.8)\n",
    "plt.title('Uber Rides every 15 mins in the month of July at NYC')\n",
    "plt.xlabel('Days')\n",
    "plt.ylabel('Rides')"
   ]
  },
  {
   "cell_type": "markdown",
   "metadata": {},
   "source": [
    "<span style=\"color : green\">Interpritation : </span>\n",
    "La variation de nombre de pickup pendant un même jours indique qu'il Ya des horaires plus faibles \n",
    "\n",
    "H-horaire : on suppose que c'est la nuit "
   ]
  },
  {
   "cell_type": "code",
   "execution_count": 13,
   "metadata": {},
   "outputs": [
    {
     "data": {
      "text/html": [
       "<div>\n",
       "<style scoped>\n",
       "    .dataframe tbody tr th:only-of-type {\n",
       "        vertical-align: middle;\n",
       "    }\n",
       "\n",
       "    .dataframe tbody tr th {\n",
       "        vertical-align: top;\n",
       "    }\n",
       "\n",
       "    .dataframe thead th {\n",
       "        text-align: right;\n",
       "    }\n",
       "</style>\n",
       "<table border=\"1\" class=\"dataframe\">\n",
       "  <thead>\n",
       "    <tr style=\"text-align: right;\">\n",
       "      <th></th>\n",
       "      <th>index</th>\n",
       "      <th>Days</th>\n",
       "    </tr>\n",
       "  </thead>\n",
       "  <tbody>\n",
       "    <tr>\n",
       "      <th>0</th>\n",
       "      <td>0</td>\n",
       "      <td>Tuesday</td>\n",
       "    </tr>\n",
       "    <tr>\n",
       "      <th>1</th>\n",
       "      <td>1</td>\n",
       "      <td>Tuesday</td>\n",
       "    </tr>\n",
       "    <tr>\n",
       "      <th>2</th>\n",
       "      <td>2</td>\n",
       "      <td>Tuesday</td>\n",
       "    </tr>\n",
       "    <tr>\n",
       "      <th>3</th>\n",
       "      <td>3</td>\n",
       "      <td>Tuesday</td>\n",
       "    </tr>\n",
       "    <tr>\n",
       "      <th>4</th>\n",
       "      <td>4</td>\n",
       "      <td>Tuesday</td>\n",
       "    </tr>\n",
       "    <tr>\n",
       "      <th>5</th>\n",
       "      <td>5</td>\n",
       "      <td>Tuesday</td>\n",
       "    </tr>\n",
       "    <tr>\n",
       "      <th>6</th>\n",
       "      <td>6</td>\n",
       "      <td>Tuesday</td>\n",
       "    </tr>\n",
       "    <tr>\n",
       "      <th>7</th>\n",
       "      <td>7</td>\n",
       "      <td>Tuesday</td>\n",
       "    </tr>\n",
       "    <tr>\n",
       "      <th>8</th>\n",
       "      <td>8</td>\n",
       "      <td>Tuesday</td>\n",
       "    </tr>\n",
       "    <tr>\n",
       "      <th>9</th>\n",
       "      <td>9</td>\n",
       "      <td>Tuesday</td>\n",
       "    </tr>\n",
       "  </tbody>\n",
       "</table>\n",
       "</div>"
      ],
      "text/plain": [
       "   index     Days\n",
       "0      0  Tuesday\n",
       "1      1  Tuesday\n",
       "2      2  Tuesday\n",
       "3      3  Tuesday\n",
       "4      4  Tuesday\n",
       "5      5  Tuesday\n",
       "6      6  Tuesday\n",
       "7      7  Tuesday\n",
       "8      8  Tuesday\n",
       "9      9  Tuesday"
      ]
     },
     "execution_count": 13,
     "metadata": {},
     "output_type": "execute_result"
    }
   ],
   "source": [
    "days = {0:'Monday', 1:'Tuesday', 2:'Wednesday', 3:'Thursday', 4:'Friday', 5:'Saturday', 6:'Sunday'}\n",
    "Visualizer.data['Days'] = Visualizer.data['Floored'].dt.weekday.map(days)\n",
    "Visualizer.data['Days'].head(10).reset_index(0)"
   ]
  },
  {
   "cell_type": "markdown",
   "metadata": {},
   "source": [
    "***On divise le champ Date/Time pour avoir ['Date','Time']***"
   ]
  },
  {
   "cell_type": "code",
   "execution_count": 14,
   "metadata": {},
   "outputs": [],
   "source": [
    "Visualizer.data['Date'],Visualizer.data['Time'] = Visualizer.data['Floored'].dt.date,Visualizer.data['Floored'].dt.time"
   ]
  },
  {
   "cell_type": "code",
   "execution_count": 15,
   "metadata": {},
   "outputs": [
    {
     "data": {
      "text/plain": [
       "0    Tuesday\n",
       "1    Tuesday\n",
       "2    Tuesday\n",
       "3    Tuesday\n",
       "4    Tuesday\n",
       "Name: Days, dtype: category\n",
       "Categories (7, object): ['Monday' < 'Tuesday' < 'Wednesday' < 'Thursday' < 'Friday' < 'Saturday' < 'Sunday']"
      ]
     },
     "execution_count": 15,
     "metadata": {},
     "output_type": "execute_result"
    }
   ],
   "source": [
    "Visualizer.data['Days']=pd.Categorical(Visualizer.data['Days'],categories=list(days.values()),ordered=True)\n",
    "Visualizer.data['Days'].head(5)"
   ]
  },
  {
   "cell_type": "markdown",
   "metadata": {},
   "source": [
    "<u>Classification des donnees pour L'analyse par semaine</u>"
   ]
  },
  {
   "cell_type": "code",
   "execution_count": 16,
   "metadata": {},
   "outputs": [],
   "source": [
    "weekly_data = Visualizer.data.groupby(['Date','Days','Time']).count().dropna().rename(columns={'Floored':'Rides'})['Rides'].reset_index()\n",
    "weekly_data_2 = Visualizer.data.groupby(['Date','Days','Time']).count().dropna().rename(columns={'Floored':'Rides'})['Rides']"
   ]
  },
  {
   "cell_type": "code",
   "execution_count": 17,
   "metadata": {},
   "outputs": [
    {
     "data": {
      "text/html": [
       "<div>\n",
       "<style scoped>\n",
       "    .dataframe tbody tr th:only-of-type {\n",
       "        vertical-align: middle;\n",
       "    }\n",
       "\n",
       "    .dataframe tbody tr th {\n",
       "        vertical-align: top;\n",
       "    }\n",
       "\n",
       "    .dataframe thead th {\n",
       "        text-align: right;\n",
       "    }\n",
       "</style>\n",
       "<table border=\"1\" class=\"dataframe\">\n",
       "  <thead>\n",
       "    <tr style=\"text-align: right;\">\n",
       "      <th></th>\n",
       "      <th>Rides</th>\n",
       "    </tr>\n",
       "  </thead>\n",
       "  <tbody>\n",
       "    <tr>\n",
       "      <th>count</th>\n",
       "      <td>20832.000000</td>\n",
       "    </tr>\n",
       "    <tr>\n",
       "      <th>mean</th>\n",
       "      <td>38.216254</td>\n",
       "    </tr>\n",
       "    <tr>\n",
       "      <th>std</th>\n",
       "      <td>111.317028</td>\n",
       "    </tr>\n",
       "    <tr>\n",
       "      <th>min</th>\n",
       "      <td>0.000000</td>\n",
       "    </tr>\n",
       "    <tr>\n",
       "      <th>25%</th>\n",
       "      <td>0.000000</td>\n",
       "    </tr>\n",
       "    <tr>\n",
       "      <th>50%</th>\n",
       "      <td>0.000000</td>\n",
       "    </tr>\n",
       "    <tr>\n",
       "      <th>75%</th>\n",
       "      <td>0.000000</td>\n",
       "    </tr>\n",
       "    <tr>\n",
       "      <th>max</th>\n",
       "      <td>915.000000</td>\n",
       "    </tr>\n",
       "  </tbody>\n",
       "</table>\n",
       "</div>"
      ],
      "text/plain": [
       "              Rides\n",
       "count  20832.000000\n",
       "mean      38.216254\n",
       "std      111.317028\n",
       "min        0.000000\n",
       "25%        0.000000\n",
       "50%        0.000000\n",
       "75%        0.000000\n",
       "max      915.000000"
      ]
     },
     "execution_count": 17,
     "metadata": {},
     "output_type": "execute_result"
    }
   ],
   "source": [
    "type(weekly_data_2),type(weekly_data)\n",
    "weekly_data.describe()    "
   ]
  },
  {
   "cell_type": "code",
   "execution_count": 18,
   "metadata": {},
   "outputs": [
    {
     "data": {
      "text/html": [
       "<div>\n",
       "<style scoped>\n",
       "    .dataframe tbody tr th:only-of-type {\n",
       "        vertical-align: middle;\n",
       "    }\n",
       "\n",
       "    .dataframe tbody tr th {\n",
       "        vertical-align: top;\n",
       "    }\n",
       "\n",
       "    .dataframe thead th {\n",
       "        text-align: right;\n",
       "    }\n",
       "</style>\n",
       "<table border=\"1\" class=\"dataframe\">\n",
       "  <thead>\n",
       "    <tr style=\"text-align: right;\">\n",
       "      <th></th>\n",
       "      <th>Days</th>\n",
       "      <th>Rides</th>\n",
       "      <th>Time</th>\n",
       "      <th>Rides</th>\n",
       "    </tr>\n",
       "  </thead>\n",
       "  <tbody>\n",
       "    <tr>\n",
       "      <th>0</th>\n",
       "      <td>Monday</td>\n",
       "      <td>93189.0</td>\n",
       "      <td>00:00:00</td>\n",
       "      <td>5212</td>\n",
       "    </tr>\n",
       "    <tr>\n",
       "      <th>1</th>\n",
       "      <td>Tuesday</td>\n",
       "      <td>137454.0</td>\n",
       "      <td>00:15:00</td>\n",
       "      <td>4683</td>\n",
       "    </tr>\n",
       "    <tr>\n",
       "      <th>2</th>\n",
       "      <td>Wednesday</td>\n",
       "      <td>147717.0</td>\n",
       "      <td>00:30:00</td>\n",
       "      <td>4303</td>\n",
       "    </tr>\n",
       "    <tr>\n",
       "      <th>3</th>\n",
       "      <td>Thursday</td>\n",
       "      <td>148439.0</td>\n",
       "      <td>00:45:00</td>\n",
       "      <td>3755</td>\n",
       "    </tr>\n",
       "    <tr>\n",
       "      <th>4</th>\n",
       "      <td>Friday</td>\n",
       "      <td>102735.0</td>\n",
       "      <td>01:00:00</td>\n",
       "      <td>3510</td>\n",
       "    </tr>\n",
       "  </tbody>\n",
       "</table>\n",
       "</div>"
      ],
      "text/plain": [
       "        Days     Rides      Time  Rides\n",
       "0     Monday   93189.0  00:00:00   5212\n",
       "1    Tuesday  137454.0  00:15:00   4683\n",
       "2  Wednesday  147717.0  00:30:00   4303\n",
       "3   Thursday  148439.0  00:45:00   3755\n",
       "4     Friday  102735.0  01:00:00   3510"
      ]
     },
     "execution_count": 18,
     "metadata": {},
     "output_type": "execute_result"
    }
   ],
   "source": [
    "by_day = weekly_data.groupby('Days').agg(\"sum\")\n",
    "by_time = weekly_data.groupby('Time').agg(\"sum\")\n",
    "pd.concat([by_day.reset_index(),by_time.reset_index()],axis=1).head(5)"
   ]
  },
  {
   "cell_type": "markdown",
   "metadata": {},
   "source": [
    "----------------------------------------------"
   ]
  },
  {
   "cell_type": "markdown",
   "metadata": {},
   "source": [
    "## Machine learning part"
   ]
  },
  {
   "cell_type": "markdown",
   "metadata": {},
   "source": [
    "<b style=\"color : red\">\n",
    "Although the dataset is not meant for machine learning we will try to implement a neural network <p style=\"font-size : 15\">⛔</p>\n",
    "</b>"
   ]
  },
  {
   "cell_type": "markdown",
   "metadata": {},
   "source": [
    "<p>Checking missing Data</p>"
   ]
  },
  {
   "cell_type": "code",
   "execution_count": 19,
   "metadata": {},
   "outputs": [
    {
     "data": {
      "text/plain": [
       "Date/Time    0\n",
       "Lat          0\n",
       "Lon          0\n",
       "Base         0\n",
       "Floored      0\n",
       "Days         0\n",
       "Date         0\n",
       "Time         0\n",
       "dtype: int64"
      ]
     },
     "execution_count": 19,
     "metadata": {},
     "output_type": "execute_result"
    }
   ],
   "source": [
    "Visualizer.data.head(15)\n",
    "Visualizer.data.isna().sum() ## ---> 0"
   ]
  },
  {
   "cell_type": "markdown",
   "metadata": {},
   "source": [
    "<p>Converting DateTime field to timestamp (integer) so the model can understand it</p>"
   ]
  },
  {
   "cell_type": "code",
   "execution_count": 20,
   "metadata": {},
   "outputs": [
    {
     "data": {
      "text/plain": [
       "0    1404172800\n",
       "1    1404172800\n",
       "2    1404172800\n",
       "3    1404172800\n",
       "4    1404173700\n",
       "Name: timestamp, dtype: int64"
      ]
     },
     "execution_count": 20,
     "metadata": {},
     "output_type": "execute_result"
    }
   ],
   "source": [
    "Visualizer.data[\"timestamp\"] = Visualizer.data.Floored.values.astype(np.int64) // 10**9\n",
    "Visualizer.data[\"timestamp\"].head(5)"
   ]
  },
  {
   "cell_type": "markdown",
   "metadata": {},
   "source": [
    "<p>Encoding data</p>"
   ]
  },
  {
   "cell_type": "code",
   "execution_count": 21,
   "metadata": {},
   "outputs": [
    {
     "data": {
      "text/plain": [
       "0    0\n",
       "1    0\n",
       "2    0\n",
       "3    0\n",
       "4    0\n",
       "Name: Base, dtype: int64"
      ]
     },
     "execution_count": 21,
     "metadata": {},
     "output_type": "execute_result"
    }
   ],
   "source": [
    "bases = {}\n",
    "values = Visualizer.data.Base.unique()\n",
    "for i,j in enumerate(values):\n",
    "    bases[j] = i\n",
    "bases\n",
    "Visualizer.data.Base=Visualizer.data.Base.map(bases)\n",
    "Visualizer.data.Base.head(5)"
   ]
  },
  {
   "cell_type": "code",
   "execution_count": 22,
   "metadata": {},
   "outputs": [
    {
     "data": {
      "text/plain": [
       "{'B02512': 0, 'B02598': 1, 'B02617': 2, 'B02682': 3, 'B02764': 4}"
      ]
     },
     "execution_count": 22,
     "metadata": {},
     "output_type": "execute_result"
    }
   ],
   "source": [
    "bases"
   ]
  },
  {
   "cell_type": "markdown",
   "metadata": {},
   "source": [
    "<p>Normalizing data</p>"
   ]
  },
  {
   "cell_type": "code",
   "execution_count": 23,
   "metadata": {},
   "outputs": [
    {
     "data": {
      "text/plain": [
       "(Lat          1.0\n",
       " Lon          1.0\n",
       " timestamp    1.0\n",
       " dtype: float64,\n",
       "              Lat       Lon  timestamp\n",
       " 0       0.640286  0.339944   0.000000\n",
       " 1       0.641459  0.328498   0.000000\n",
       " 2       0.623866  0.328299   0.000000\n",
       " 3       0.643311  0.336486   0.000000\n",
       " 4       0.616705  0.326392   0.000336\n",
       " ...          ...       ...        ...\n",
       " 796116  0.621705  0.334380   0.999328\n",
       " 796117  0.642077  0.333506   0.999328\n",
       " 796118  0.589913  0.347534   0.999328\n",
       " 796119  0.618001  0.326750   0.999664\n",
       " 796120  0.616396  0.332870   1.000000\n",
       " \n",
       " [796121 rows x 3 columns])"
      ]
     },
     "execution_count": 23,
     "metadata": {},
     "output_type": "execute_result"
    }
   ],
   "source": [
    "from sklearn.preprocessing import MinMaxScaler\n",
    "\n",
    "cols_to_scale = [\"Lat\",\"Lon\",\"timestamp\"]\n",
    "\n",
    "MMscaller = MinMaxScaler()\n",
    "Visualizer.data[cols_to_scale] = MMscaller.fit_transform(Visualizer.data[cols_to_scale])\n",
    "Visualizer.data[cols_to_scale].max(),Visualizer.data[cols_to_scale]"
   ]
  },
  {
   "cell_type": "markdown",
   "metadata": {},
   "source": [
    "<p>Creating A class to simplify/organize tensorflow functions</p>"
   ]
  },
  {
   "cell_type": "code",
   "execution_count": 24,
   "metadata": {},
   "outputs": [],
   "source": [
    "import tensorflow as tf\n",
    "from tensorflow import keras\n",
    "from sklearn.model_selection import train_test_split\n",
    "\n",
    "X = Visualizer.data[[\"Lon\",\"Lat\",\"timestamp\"]]\n",
    "y = Visualizer.data[\"Base\"]\n",
    "\n",
    "X_train,X_test,y_train,y_test = train_test_split(X,y,test_size=0.2,random_state=5)\n",
    "class NN():\n",
    "    def __init__(self,x,y):\n",
    "        self.x_train = x\n",
    "        self.y_train = y\n",
    "        self.model=None\n",
    "\n",
    "    def annmodel(self):\n",
    "        print(\"_______On the Ann model________\")\n",
    "        model = keras.Sequential([\n",
    "            keras.layers.Dense(7,input_shape = (3,),activation='relu'),\n",
    "            keras.layers.Dense(6,activation='relu'),\n",
    "            keras.layers.Dense(5,activation='sigmoid')\n",
    "        ])\n",
    "        model.compile(\n",
    "            optimizer = 'SGD',\n",
    "            loss = 'sparse_categorical_crossentropy',\n",
    "            metrics=['accuracy']\n",
    "        )\n",
    "        self.model = model\n",
    " \n",
    "    def fit_model(self,epochs):\n",
    "        self.model.fit(self.x_train,self.y_train,epochs=epochs)\n",
    "\n",
    "    def ExtractModel(self):\n",
    "        return self.model\n"
   ]
  },
  {
   "cell_type": "markdown",
   "metadata": {},
   "source": [
    "<p style=\"font-size:17px\">As we expected the <span style=\"color : yellow\">performance</span> of the model wasn't quite well due to many reasons : </p>\n",
    "\n",
    ">Insignificant data\n",
    "\n",
    ">No correlations\n",
    "\n",
    ">..."
   ]
  },
  {
   "cell_type": "code",
   "execution_count": 25,
   "metadata": {},
   "outputs": [
    {
     "name": "stdout",
     "output_type": "stream",
     "text": [
      "_______On the Ann model________\n",
      "Epoch 1/10\n",
      "19903/19903 [==============================] - 33s 2ms/step - loss: 1.2626 - accuracy: 0.3894\n",
      "Epoch 2/10\n",
      "19903/19903 [==============================] - 32s 2ms/step - loss: 1.2606 - accuracy: 0.3890\n",
      "Epoch 3/10\n",
      "19903/19903 [==============================] - 32s 2ms/step - loss: 1.2605 - accuracy: 0.3894\n",
      "Epoch 4/10\n",
      "19903/19903 [==============================] - 33s 2ms/step - loss: 1.2605 - accuracy: 0.3896\n",
      "Epoch 5/10\n",
      "19903/19903 [==============================] - 33s 2ms/step - loss: 1.2605 - accuracy: 0.3895\n",
      "Epoch 6/10\n",
      "19903/19903 [==============================] - 34s 2ms/step - loss: 1.2604 - accuracy: 0.3896\n",
      "Epoch 7/10\n",
      "19903/19903 [==============================] - 34s 2ms/step - loss: 1.2604 - accuracy: 0.3893\n",
      "Epoch 8/10\n",
      "19903/19903 [==============================] - 33s 2ms/step - loss: 1.2604 - accuracy: 0.3895\n",
      "Epoch 9/10\n",
      "19903/19903 [==============================] - 32s 2ms/step - loss: 1.2603 - accuracy: 0.3893\n",
      "Epoch 10/10\n",
      "19903/19903 [==============================] - 32s 2ms/step - loss: 1.2603 - accuracy: 0.3894\n"
     ]
    }
   ],
   "source": [
    "X_train.shape\n",
    "myModel = NN(X_train,y_train)\n",
    "myModel.annmodel()\n",
    "myModel.fit_model(100)"
   ]
  },
  {
   "cell_type": "code",
   "execution_count": 26,
   "metadata": {},
   "outputs": [
    {
     "name": "stdout",
     "output_type": "stream",
     "text": [
      "4976/4976 [==============================] - 9s 2ms/step - loss: 1.2590 - accuracy: 0.3920\n"
     ]
    },
    {
     "data": {
      "text/plain": [
       "[1.2590330839157104, 0.39203014969825745]"
      ]
     },
     "execution_count": 26,
     "metadata": {},
     "output_type": "execute_result"
    }
   ],
   "source": [
    "model_ann = myModel.ExtractModel()\n",
    "model_ann.evaluate(X_test,y_test)"
   ]
  },
  {
   "cell_type": "code",
   "execution_count": 27,
   "metadata": {},
   "outputs": [
    {
     "data": {
      "text/plain": [
       "array([[0.3400481 , 0.77979326, 0.80798453, 0.74283576, 0.10901651],\n",
       "       [0.33451474, 0.784078  , 0.7898631 , 0.7517592 , 0.11004373],\n",
       "       [0.3474026 , 0.78717184, 0.8404221 , 0.7500285 , 0.10338476],\n",
       "       ...,\n",
       "       [0.3399076 , 0.7791374 , 0.7944746 , 0.7446642 , 0.11287534],\n",
       "       [0.34162146, 0.7786607 , 0.80395067, 0.7424526 , 0.11135894],\n",
       "       [0.35047936, 0.7805021 , 0.82333374, 0.74430573, 0.11138585]],\n",
       "      dtype=float32)"
      ]
     },
     "execution_count": 27,
     "metadata": {},
     "output_type": "execute_result"
    }
   ],
   "source": [
    "from sklearn.metrics import classification_report\n",
    "\n",
    "y_pred = model_ann.predict(X_test)\n",
    "y_pred"
   ]
  },
  {
   "cell_type": "code",
   "execution_count": 28,
   "metadata": {},
   "outputs": [
    {
     "name": "stdout",
     "output_type": "stream",
     "text": [
      "              precision    recall  f1-score   support\n",
      "\n",
      "           0       0.00      0.00      0.00      7044\n",
      "           1       0.34      0.09      0.15     49044\n",
      "           2       0.40      0.93      0.56     62236\n",
      "           3       0.00      0.00      0.00     39231\n",
      "           4       0.00      0.00      0.00      1670\n",
      "\n",
      "    accuracy                           0.39    159225\n",
      "   macro avg       0.15      0.20      0.14    159225\n",
      "weighted avg       0.26      0.39      0.26    159225\n",
      "\n"
     ]
    },
    {
     "name": "stderr",
     "output_type": "stream",
     "text": [
      "C:\\Users\\ELASR\\AppData\\Roaming\\Python\\Python39\\site-packages\\sklearn\\metrics\\_classification.py:1248: UndefinedMetricWarning: Precision and F-score are ill-defined and being set to 0.0 in labels with no predicted samples. Use `zero_division` parameter to control this behavior.\n",
      "  _warn_prf(average, modifier, msg_start, len(result))\n",
      "C:\\Users\\ELASR\\AppData\\Roaming\\Python\\Python39\\site-packages\\sklearn\\metrics\\_classification.py:1248: UndefinedMetricWarning: Precision and F-score are ill-defined and being set to 0.0 in labels with no predicted samples. Use `zero_division` parameter to control this behavior.\n",
      "  _warn_prf(average, modifier, msg_start, len(result))\n",
      "C:\\Users\\ELASR\\AppData\\Roaming\\Python\\Python39\\site-packages\\sklearn\\metrics\\_classification.py:1248: UndefinedMetricWarning: Precision and F-score are ill-defined and being set to 0.0 in labels with no predicted samples. Use `zero_division` parameter to control this behavior.\n",
      "  _warn_prf(average, modifier, msg_start, len(result))\n"
     ]
    }
   ],
   "source": [
    "y_pred_class = [np.argmax(e) for e in y_pred]\n",
    "print(classification_report(y_test,y_pred_class))"
   ]
  },
  {
   "cell_type": "code",
   "execution_count": 29,
   "metadata": {},
   "outputs": [
    {
     "data": {
      "text/plain": [
       "Text(66.0, 0.5, 'Truth')"
      ]
     },
     "execution_count": 29,
     "metadata": {},
     "output_type": "execute_result"
    },
    {
     "data": {
      "image/png": "[encoded data removed]",
      "text/plain": [
       "<Figure size 720x504 with 2 Axes>"
      ]
     },
     "metadata": {
      "needs_background": "light"
     },
     "output_type": "display_data"
    }
   ],
   "source": [
    "import seaborn as sn\n",
    "\n",
    "cm = tf.math.confusion_matrix(labels=list(y_test),predictions=y_pred_class)\n",
    "plt.figure(figsize = (10,7))\n",
    "sn.heatmap(cm,annot=True,fmt='d')\n",
    "plt.xlabel('predicted')\n",
    "plt.ylabel('Truth')"
   ]
  },
  {
   "cell_type": "markdown",
   "metadata": {},
   "source": [
    "------------------------------------------"
   ]
  },
  {
   "cell_type": "markdown",
   "metadata": {},
   "source": [
    "#### On sauvegarde les donnees pour continuer l'analyse avec R \n",
    "<h3 style=\"color : #e74c3c\">Voir R_part</h3>"
   ]
  },
  {
   "cell_type": "code",
   "execution_count": 30,
   "metadata": {},
   "outputs": [],
   "source": [
    "# by_time.to_csv('./R_Part/by_time.csv')\n",
    "# by_day.to_csv('./R_Part/by_day.csv')\n",
    "# weekly_data.to_csv('./R_Part/weekly_data.csv')\n",
    "# Visualizer.data.to_csv('./R_Part/data.csv')"
   ]
  },
  {
   "cell_type": "code",
   "execution_count": 31,
   "metadata": {},
   "outputs": [
    {
     "data": {
      "text/plain": [
       "Date        Days    Time      Rides\n",
       "2014-07-01  Monday  00:00:00  0        1\n",
       "2014-07-21  Monday  16:45:00  455      1\n",
       "                    14:30:00  324      1\n",
       "                    14:45:00  303      1\n",
       "                    15:00:00  323      1\n",
       "                                      ..\n",
       "2014-07-11  Monday  08:30:00  0        1\n",
       "                    08:45:00  0        1\n",
       "                    09:00:00  0        1\n",
       "                    09:15:00  0        1\n",
       "2014-07-31  Monday  23:45:00  0        1\n",
       "Length: 2976, dtype: int64"
      ]
     },
     "execution_count": 31,
     "metadata": {},
     "output_type": "execute_result"
    }
   ],
   "source": [
    "weekly_data[weekly_data.Days == \"Monday\"].value_counts()"
   ]
  },
  {
   "cell_type": "code",
   "execution_count": 32,
   "metadata": {},
   "outputs": [
    {
     "data": {
      "text/html": [
       "<div>\n",
       "<style scoped>\n",
       "    .dataframe tbody tr th:only-of-type {\n",
       "        vertical-align: middle;\n",
       "    }\n",
       "\n",
       "    .dataframe tbody tr th {\n",
       "        vertical-align: top;\n",
       "    }\n",
       "\n",
       "    .dataframe thead th {\n",
       "        text-align: right;\n",
       "    }\n",
       "</style>\n",
       "<table border=\"1\" class=\"dataframe\">\n",
       "  <thead>\n",
       "    <tr style=\"text-align: right;\">\n",
       "      <th></th>\n",
       "      <th>Days</th>\n",
       "      <th>Time</th>\n",
       "      <th>Rides</th>\n",
       "    </tr>\n",
       "  </thead>\n",
       "  <tbody>\n",
       "    <tr>\n",
       "      <th>384</th>\n",
       "      <td>Friday</td>\n",
       "      <td>00:00:00</td>\n",
       "      <td>24.677419</td>\n",
       "    </tr>\n",
       "    <tr>\n",
       "      <th>385</th>\n",
       "      <td>Friday</td>\n",
       "      <td>00:15:00</td>\n",
       "      <td>19.870968</td>\n",
       "    </tr>\n",
       "    <tr>\n",
       "      <th>386</th>\n",
       "      <td>Friday</td>\n",
       "      <td>00:30:00</td>\n",
       "      <td>19.096774</td>\n",
       "    </tr>\n",
       "    <tr>\n",
       "      <th>387</th>\n",
       "      <td>Friday</td>\n",
       "      <td>00:45:00</td>\n",
       "      <td>15.709677</td>\n",
       "    </tr>\n",
       "    <tr>\n",
       "      <th>388</th>\n",
       "      <td>Friday</td>\n",
       "      <td>01:00:00</td>\n",
       "      <td>15.483871</td>\n",
       "    </tr>\n",
       "  </tbody>\n",
       "</table>\n",
       "</div>"
      ],
      "text/plain": [
       "       Days      Time      Rides\n",
       "384  Friday  00:00:00  24.677419\n",
       "385  Friday  00:15:00  19.870968\n",
       "386  Friday  00:30:00  19.096774\n",
       "387  Friday  00:45:00  15.709677\n",
       "388  Friday  01:00:00  15.483871"
      ]
     },
     "execution_count": 32,
     "metadata": {},
     "output_type": "execute_result"
    }
   ],
   "source": [
    "weekly_data_2 = weekly_data.groupby(['Days','Time']).mean()['Rides']\n",
    "weekly_data_2.reset_index()[weekly_data_2.reset_index().Days == \"Friday\"].head(5)"
   ]
  }
 ],
 "metadata": {
  "interpreter": {
   "hash": "11938c6bc6919ae2720b4d5011047913343b08a43b18698fd82dedb0d4417594"
  },
  "kernelspec": {
   "display_name": "Python 3",
   "language": "python",
   "name": "python3"
  },
  "language_info": {
   "codemirror_mode": {
    "name": "ipython",
    "version": 3
   },
   "file_extension": ".py",
   "mimetype": "text/x-python",
   "name": "python",
   "nbconvert_exporter": "python",
   "pygments_lexer": "ipython3",
   "version": "3.9.5"
  }
 },
 "nbformat": 4,
 "nbformat_minor": 2
}
