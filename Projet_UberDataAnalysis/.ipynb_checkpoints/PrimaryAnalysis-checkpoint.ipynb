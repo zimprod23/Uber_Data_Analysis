{
 "cells": [
  {
   "cell_type": "code",
   "execution_count": 1,
   "metadata": {},
   "outputs": [],
   "source": [
    "# Importing Libraries\n",
    "import pandas as pd\n",
    "import numpy as np\n",
    "import matplotlib.pyplot as plt\n",
    "import matplotlib\n",
    "import os"
   ]
  },
  {
   "cell_type": "code",
   "execution_count": 2,
   "metadata": {},
   "outputs": [],
   "source": [
    " %matplotlib inline\n",
    " matplotlib.rcParams.update({'font.size': 12})"
   ]
  },
  {
   "cell_type": "markdown",
   "metadata": {},
   "source": [
    "__Creation de la class *DataVisual* pour organiser l analyse des donnees__"
   ]
  },
  {
   "cell_type": "code",
   "execution_count": 3,
   "metadata": {},
   "outputs": [],
   "source": [
    "class DataVisual():\n",
    "    def __init__(self,file_name,path=None):\n",
    "        self.file_name = file_name\n",
    "        self.path = path\n",
    "        self.displayer = plt\n",
    "        self.data  = None\n",
    "\n",
    "    @property\n",
    "    def fullPath(self):\n",
    "        return f'{self.path}\\\\{self.file_name}'   \n",
    "\n",
    "\n",
    "    @fullPath.setter\n",
    "    def fullPath(self,data):\n",
    "        path,name = data.split(\" \")\n",
    "        self.file_name = name\n",
    "        self.path = path\n",
    "\n",
    "    def read_data(self):\n",
    "        self.data = pd.read_csv(self.fullPath)\n",
    "    \n",
    "    def fig_config(self,w,h):\n",
    "        self.displayer.figure(figsize=(w,h))\n",
    "    \n",
    "\n",
    "    @classmethod\n",
    "    def from_name(cls,file_name):\n",
    "        return cls(file_name,f'{os.getcwd()}\\\\data')\n",
    "\n",
    "    @staticmethod\n",
    "    def ploter(plot_func):\n",
    "        def graph(*args):\n",
    "            plot_func(*args)\n",
    "        return graph\n",
    "\n",
    "    \n",
    "     "
   ]
  },
  {
   "cell_type": "markdown",
   "metadata": {},
   "source": [
    "### On va essayer dans un premier temps de comprendre les ```Features``` pour une bonne analyse"
   ]
  },
  {
   "cell_type": "code",
   "execution_count": 4,
   "metadata": {},
   "outputs": [
    {
     "data": {
      "text/html": [
       "<div>\n",
       "<style scoped>\n",
       "    .dataframe tbody tr th:only-of-type {\n",
       "        vertical-align: middle;\n",
       "    }\n",
       "\n",
       "    .dataframe tbody tr th {\n",
       "        vertical-align: top;\n",
       "    }\n",
       "\n",
       "    .dataframe thead th {\n",
       "        text-align: right;\n",
       "    }\n",
       "</style>\n",
       "<table border=\"1\" class=\"dataframe\">\n",
       "  <thead>\n",
       "    <tr style=\"text-align: right;\">\n",
       "      <th></th>\n",
       "      <th>Date/Time</th>\n",
       "      <th>Lat</th>\n",
       "      <th>Lon</th>\n",
       "      <th>Base</th>\n",
       "    </tr>\n",
       "  </thead>\n",
       "  <tbody>\n",
       "    <tr>\n",
       "      <th>0</th>\n",
       "      <td>7/1/2014 0:03:00</td>\n",
       "      <td>40.7586</td>\n",
       "      <td>-73.9706</td>\n",
       "      <td>B02512</td>\n",
       "    </tr>\n",
       "    <tr>\n",
       "      <th>1</th>\n",
       "      <td>7/1/2014 0:05:00</td>\n",
       "      <td>40.7605</td>\n",
       "      <td>-73.9994</td>\n",
       "      <td>B02512</td>\n",
       "    </tr>\n",
       "    <tr>\n",
       "      <th>2</th>\n",
       "      <td>7/1/2014 0:06:00</td>\n",
       "      <td>40.7320</td>\n",
       "      <td>-73.9999</td>\n",
       "      <td>B02512</td>\n",
       "    </tr>\n",
       "    <tr>\n",
       "      <th>3</th>\n",
       "      <td>7/1/2014 0:09:00</td>\n",
       "      <td>40.7635</td>\n",
       "      <td>-73.9793</td>\n",
       "      <td>B02512</td>\n",
       "    </tr>\n",
       "    <tr>\n",
       "      <th>4</th>\n",
       "      <td>7/1/2014 0:20:00</td>\n",
       "      <td>40.7204</td>\n",
       "      <td>-74.0047</td>\n",
       "      <td>B02512</td>\n",
       "    </tr>\n",
       "  </tbody>\n",
       "</table>\n",
       "</div>"
      ],
      "text/plain": [
       "          Date/Time      Lat      Lon    Base\n",
       "0  7/1/2014 0:03:00  40.7586 -73.9706  B02512\n",
       "1  7/1/2014 0:05:00  40.7605 -73.9994  B02512\n",
       "2  7/1/2014 0:06:00  40.7320 -73.9999  B02512\n",
       "3  7/1/2014 0:09:00  40.7635 -73.9793  B02512\n",
       "4  7/1/2014 0:20:00  40.7204 -74.0047  B02512"
      ]
     },
     "execution_count": 4,
     "metadata": {},
     "output_type": "execute_result"
    }
   ],
   "source": [
    "\n",
    "Visualizer = DataVisual.from_name('uber-raw-data-jul14.csv')\n",
    "Visualizer.read_data()\n",
    "Visualizer.data.head(5)"
   ]
  },
  {
   "cell_type": "markdown",
   "metadata": {},
   "source": [
    "#### Explication des variables : \n",
    "***\n",
    "- Date/Time : La date et l'horaire de <span>Uber pickup</span>\n",
    "- Lat/Lon : Latitude et Longitude \n",
    "- Base : Le code d'entreprise de base TLC affilié au pick-up Uber Avec des valeur possible comme suit\n"
   ]
  },
  {
   "cell_type": "markdown",
   "metadata": {},
   "source": [
    "|B02512|B02598|B02617|B02682|B02764|\n",
    "|------|------|------|------|------|\n",
    "|Untert|Hinter|Weiter|Schmecken|Danach|"
   ]
  },
  {
   "cell_type": "markdown",
   "metadata": {},
   "source": [
    "## Maintenant on va commencer la visualizatiokn des donnees"
   ]
  },
  {
   "cell_type": "markdown",
   "metadata": {},
   "source": [
    "![](./Visual.jpeg)"
   ]
  },
  {
   "cell_type": "markdown",
   "metadata": {},
   "source": [
    "####  le champs ```Date/Time``` est de type String alors on va le changer en Datetime"
   ]
  },
  {
   "cell_type": "code",
   "execution_count": 27,
   "metadata": {},
   "outputs": [],
   "source": [
    "Visualizer.data['Date/Time'] = pd.to_datetime(Visualizer.data['Date/Time'] )"
   ]
  },
  {
   "cell_type": "markdown",
   "metadata": {},
   "source": [
    "On groupe les valuers de Date/Time par 15 min pour faciliter la visualization"
   ]
  },
  {
   "cell_type": "code",
   "execution_count": 28,
   "metadata": {},
   "outputs": [],
   "source": [
    "Visualizer.data['Floored'] = Visualizer.data['Date/Time'].dt.floor('15min')"
   ]
  },
  {
   "cell_type": "code",
   "execution_count": 29,
   "metadata": {},
   "outputs": [
    {
     "data": {
      "text/plain": [
       "2014-07-07 02:30:00     10\n",
       "2014-07-07 02:00:00     12\n",
       "2014-07-07 02:15:00     14\n",
       "2014-07-07 01:45:00     15\n",
       "2014-07-01 01:30:00     17\n",
       "                      ... \n",
       "2014-07-15 20:00:00    861\n",
       "2014-07-15 18:00:00    872\n",
       "2014-07-15 17:45:00    877\n",
       "2014-07-15 18:15:00    879\n",
       "2014-07-15 19:15:00    915\n",
       "Name: Floored, Length: 2976, dtype: int64"
      ]
     },
     "execution_count": 29,
     "metadata": {},
     "output_type": "execute_result"
    }
   ],
   "source": [
    "Visualizer.data['Floored'].value_counts().sort_values()"
   ]
  },
  {
   "cell_type": "code",
   "execution_count": 22,
   "metadata": {},
   "outputs": [
    {
     "data": {
      "text/html": [
       "<div>\n",
       "<style scoped>\n",
       "    .dataframe tbody tr th:only-of-type {\n",
       "        vertical-align: middle;\n",
       "    }\n",
       "\n",
       "    .dataframe tbody tr th {\n",
       "        vertical-align: top;\n",
       "    }\n",
       "\n",
       "    .dataframe thead th {\n",
       "        text-align: right;\n",
       "    }\n",
       "</style>\n",
       "<table border=\"1\" class=\"dataframe\">\n",
       "  <thead>\n",
       "    <tr style=\"text-align: right;\">\n",
       "      <th></th>\n",
       "      <th>Date/Time</th>\n",
       "      <th>Floored</th>\n",
       "    </tr>\n",
       "  </thead>\n",
       "  <tbody>\n",
       "    <tr>\n",
       "      <th>0</th>\n",
       "      <td>2014-07-01 00:03:00</td>\n",
       "      <td>2014-07-01 00:00:00</td>\n",
       "    </tr>\n",
       "    <tr>\n",
       "      <th>1</th>\n",
       "      <td>2014-07-01 00:05:00</td>\n",
       "      <td>2014-07-01 00:00:00</td>\n",
       "    </tr>\n",
       "    <tr>\n",
       "      <th>2</th>\n",
       "      <td>2014-07-01 00:06:00</td>\n",
       "      <td>2014-07-01 00:00:00</td>\n",
       "    </tr>\n",
       "    <tr>\n",
       "      <th>3</th>\n",
       "      <td>2014-07-01 00:09:00</td>\n",
       "      <td>2014-07-01 00:00:00</td>\n",
       "    </tr>\n",
       "    <tr>\n",
       "      <th>4</th>\n",
       "      <td>2014-07-01 00:20:00</td>\n",
       "      <td>2014-07-01 00:15:00</td>\n",
       "    </tr>\n",
       "  </tbody>\n",
       "</table>\n",
       "</div>"
      ],
      "text/plain": [
       "            Date/Time             Floored\n",
       "0 2014-07-01 00:03:00 2014-07-01 00:00:00\n",
       "1 2014-07-01 00:05:00 2014-07-01 00:00:00\n",
       "2 2014-07-01 00:06:00 2014-07-01 00:00:00\n",
       "3 2014-07-01 00:09:00 2014-07-01 00:00:00\n",
       "4 2014-07-01 00:20:00 2014-07-01 00:15:00"
      ]
     },
     "execution_count": 22,
     "metadata": {},
     "output_type": "execute_result"
    }
   ],
   "source": [
    "Visualizer.data[['Date/Time','Floored']].head(5)"
   ]
  },
  {
   "cell_type": "markdown",
   "metadata": {},
   "source": [
    "Visualization : <u>Uber pickups by base</u>\n",
    "\n",
    "On va exploiter ces donnees primitives apres\n"
   ]
  },
  {
   "cell_type": "markdown",
   "metadata": {},
   "source": [
    "[Visual1](#hist-Base)"
   ]
  },
  {
   "cell_type": "code",
   "execution_count": 52,
   "metadata": {},
   "outputs": [
    {
     "data": {
      "text/plain": [
       "Text(0, 0.5, 'Number of Rides')"
      ]
     },
     "execution_count": 52,
     "metadata": {},
     "output_type": "execute_result"
    },
    {
     "data": {
      "image/png": "[encoded data removed]",
      "text/plain": [
       "<Figure size 1080x576 with 1 Axes>"
      ]
     },
     "metadata": {
      "needs_background": "light"
     },
     "output_type": "display_data"
    }
   ],
   "source": [
    "plt.figure(figsize=(15,8))\n",
    "Visualizer.data[\"Base\"].value_counts().sort_index().plot(kind=\"bar\",color=\"red\")\n",
    "plt.title('Uber Rides By Base')\n",
    "plt.xlabel('Base')\n",
    "plt.ylabel('Number of Rides')"
   ]
  },
  {
   "cell_type": "markdown",
   "metadata": {},
   "source": [
    "<p><p style=\"color : red\">remarque : </p>On note que les bases [B02617,B02598,B02682] ont un nombre plus elevees que les autre bases alor on suppose que ces base : </p>\n",
    "\n",
    "- ont plus de vihicule\n",
    "- Effectue les pickup dans des zone plus actives touristique/travail ..."
   ]
  },
  {
   "cell_type": "markdown",
   "metadata": {},
   "source": [
    "[Visual2](#uber-rides-byweek)"
   ]
  },
  {
   "cell_type": "code",
   "execution_count": 79,
   "metadata": {},
   "outputs": [
    {
     "data": {
      "text/plain": [
       "Text(0, 0.5, 'Number of Rides')"
      ]
     },
     "execution_count": 79,
     "metadata": {},
     "output_type": "execute_result"
    },
    {
     "data": {
      "image/png": "[encoded data removed]",
      "text/plain": [
       "<Figure size 1080x576 with 1 Axes>"
      ]
     },
     "metadata": {
      "needs_background": "light"
     },
     "output_type": "display_data"
    }
   ],
   "source": [
    "plt.figure(figsize=(15,8))\n",
    "Visualizer.data['Floored'].dt.isocalendar().week.map({27:\"week1\",28:\"week2\",29:\"week3\",30:\"week4\",31:\"week5~\",}).value_counts().sort_index().plot(kind=\"bar\",color='blue')\n",
    "plt.title('Uber Rides per week')\n",
    "plt.xlabel('weeks')\n",
    "plt.ylabel('Number of Rides')"
   ]
  },
  {
   "cell_type": "markdown",
   "metadata": {},
   "source": [
    "[Visual3](#every-15-min)"
   ]
  },
  {
   "cell_type": "code",
   "execution_count": 37,
   "metadata": {},
   "outputs": [
    {
     "data": {
      "text/plain": [
       "Text(0, 0.5, 'Rides')"
      ]
     },
     "execution_count": 37,
     "metadata": {},
     "output_type": "execute_result"
    },
    {
     "data": {
      "image/png": "[encoded data removed]",
      "text/plain": [
       "<Figure size 1080x576 with 1 Axes>"
      ]
     },
     "metadata": {
      "needs_background": "light"
     },
     "output_type": "display_data"
    }
   ],
   "source": [
    "plt.figure(figsize=(15,8))\n",
    "Visualizer.data['Floored'].dt.day.value_counts().sort_index().plot(kind='bar',color='blue')\n",
    "for item in plt.gca().get_xticklabels():\n",
    "    item.set_rotation(45)\n",
    "plt.title('Uber Rides per day')\n",
    "plt.xlabel('Days')\n",
    "plt.ylabel('Number of Rides')"
   ]
  },
  {
   "cell_type": "markdown",
   "metadata": {},
   "source": [
    "<p style=\"color : red\">remarque : </p>\n",
    "\n",
    "Le nombre des ```Uber-pickups``` parait normal __augmentation durant les jours de travail et diminution dans les weeken__\n",
    "[7,13,20,27] on suppose que [4,5,6] sont des jours fériée"
   ]
  },
  {
   "cell_type": "markdown",
   "metadata": {},
   "source": [
    "For every 15 min"
   ]
  },
  {
   "cell_type": "code",
   "execution_count": 80,
   "metadata": {},
   "outputs": [
    {
     "data": {
      "text/plain": [
       "Text(0, 0.5, 'Rides')"
      ]
     },
     "execution_count": 80,
     "metadata": {},
     "output_type": "execute_result"
    },
    {
     "data": {
      "image/png": "[encoded data removed]",
      "text/plain": [
       "<Figure size 1080x576 with 1 Axes>"
      ]
     },
     "metadata": {
      "needs_background": "light"
     },
     "output_type": "display_data"
    }
   ],
   "source": [
    "plt.figure(figsize = (15,8))\n",
    "Visualizer.data['Floored'].value_counts().sort_index().plot(c='red',alpha=0.8)\n",
    "plt.title('Uber Rides every 15 mins in the month of July at NYC')\n",
    "plt.xlabel('Days')\n",
    "plt.ylabel('Rides')"
   ]
  },
  {
   "cell_type": "markdown",
   "metadata": {},
   "source": [
    "<span style=\"color : green\">Interpritation : </span>\n",
    "La variation de nombre de pickup pendant un meme jours indique qu'il ya des horaire plus faible on suppose que c'est la nuit "
   ]
  },
  {
   "cell_type": "code",
   "execution_count": 81,
   "metadata": {},
   "outputs": [
    {
     "data": {
      "text/html": [
       "<div>\n",
       "<style scoped>\n",
       "    .dataframe tbody tr th:only-of-type {\n",
       "        vertical-align: middle;\n",
       "    }\n",
       "\n",
       "    .dataframe tbody tr th {\n",
       "        vertical-align: top;\n",
       "    }\n",
       "\n",
       "    .dataframe thead th {\n",
       "        text-align: right;\n",
       "    }\n",
       "</style>\n",
       "<table border=\"1\" class=\"dataframe\">\n",
       "  <thead>\n",
       "    <tr style=\"text-align: right;\">\n",
       "      <th></th>\n",
       "      <th>index</th>\n",
       "      <th>Days</th>\n",
       "    </tr>\n",
       "  </thead>\n",
       "  <tbody>\n",
       "    <tr>\n",
       "      <th>0</th>\n",
       "      <td>0</td>\n",
       "      <td>Tuesday</td>\n",
       "    </tr>\n",
       "    <tr>\n",
       "      <th>1</th>\n",
       "      <td>1</td>\n",
       "      <td>Tuesday</td>\n",
       "    </tr>\n",
       "    <tr>\n",
       "      <th>2</th>\n",
       "      <td>2</td>\n",
       "      <td>Tuesday</td>\n",
       "    </tr>\n",
       "    <tr>\n",
       "      <th>3</th>\n",
       "      <td>3</td>\n",
       "      <td>Tuesday</td>\n",
       "    </tr>\n",
       "    <tr>\n",
       "      <th>4</th>\n",
       "      <td>4</td>\n",
       "      <td>Tuesday</td>\n",
       "    </tr>\n",
       "    <tr>\n",
       "      <th>5</th>\n",
       "      <td>5</td>\n",
       "      <td>Tuesday</td>\n",
       "    </tr>\n",
       "    <tr>\n",
       "      <th>6</th>\n",
       "      <td>6</td>\n",
       "      <td>Tuesday</td>\n",
       "    </tr>\n",
       "    <tr>\n",
       "      <th>7</th>\n",
       "      <td>7</td>\n",
       "      <td>Tuesday</td>\n",
       "    </tr>\n",
       "    <tr>\n",
       "      <th>8</th>\n",
       "      <td>8</td>\n",
       "      <td>Tuesday</td>\n",
       "    </tr>\n",
       "    <tr>\n",
       "      <th>9</th>\n",
       "      <td>9</td>\n",
       "      <td>Tuesday</td>\n",
       "    </tr>\n",
       "  </tbody>\n",
       "</table>\n",
       "</div>"
      ],
      "text/plain": [
       "   index     Days\n",
       "0      0  Tuesday\n",
       "1      1  Tuesday\n",
       "2      2  Tuesday\n",
       "3      3  Tuesday\n",
       "4      4  Tuesday\n",
       "5      5  Tuesday\n",
       "6      6  Tuesday\n",
       "7      7  Tuesday\n",
       "8      8  Tuesday\n",
       "9      9  Tuesday"
      ]
     },
     "execution_count": 81,
     "metadata": {},
     "output_type": "execute_result"
    }
   ],
   "source": [
    "days = {0:'Monday', 1:'Tuesday', 2:'Wednesday', 3:'Thursday', 4:'Friday', 5:'Saturday', 6:'Sunday'}\n",
    "Visualizer.data['Days'] = Visualizer.data['Floored'].dt.weekday.map(days)\n",
    "Visualizer.data['Days'].head(10).reset_index(0)"
   ]
  },
  {
   "cell_type": "markdown",
   "metadata": {},
   "source": [
    "***On divise le champ Date/Time pour avoir ['Date','Time']***"
   ]
  },
  {
   "cell_type": "code",
   "execution_count": 83,
   "metadata": {},
   "outputs": [],
   "source": [
    "Visualizer.data['Date'],Visualizer.data['Time'] = Visualizer.data['Floored'].dt.date,Visualizer.data['Floored'].dt.time"
   ]
  },
  {
   "cell_type": "code",
   "execution_count": 86,
   "metadata": {},
   "outputs": [
    {
     "data": {
      "text/plain": [
       "0          Tuesday\n",
       "1          Tuesday\n",
       "2          Tuesday\n",
       "3          Tuesday\n",
       "4          Tuesday\n",
       "            ...   \n",
       "796116    Thursday\n",
       "796117    Thursday\n",
       "796118    Thursday\n",
       "796119    Thursday\n",
       "796120    Thursday\n",
       "Name: Days, Length: 796121, dtype: category\n",
       "Categories (7, object): ['Monday' < 'Tuesday' < 'Wednesday' < 'Thursday' < 'Friday' < 'Saturday' < 'Sunday']"
      ]
     },
     "execution_count": 86,
     "metadata": {},
     "output_type": "execute_result"
    }
   ],
   "source": [
    "Visualizer.data['Days']=pd.Categorical(Visualizer.data['Days'],categories=list(days.values()),ordered=True)\n",
    "Visualizer.data['Days']"
   ]
  },
  {
   "cell_type": "markdown",
   "metadata": {},
   "source": [
    "<u>Classification des donnees pour L'analyse par semaine</u>"
   ]
  },
  {
   "cell_type": "code",
   "execution_count": 87,
   "metadata": {},
   "outputs": [],
   "source": [
    "weekly_data = Visualizer.data.groupby(['Date','Days','Time']).count().dropna().rename(columns={'Floored':'Rides'})['Rides'].reset_index()\n",
    "weekly_data_2 = Visualizer.data.groupby(['Date','Days','Time']).count().dropna().rename(columns={'Floored':'Rides'})['Rides']"
   ]
  },
  {
   "cell_type": "code",
   "execution_count": 93,
   "metadata": {},
   "outputs": [
    {
     "data": {
      "text/html": [
       "<div>\n",
       "<style scoped>\n",
       "    .dataframe tbody tr th:only-of-type {\n",
       "        vertical-align: middle;\n",
       "    }\n",
       "\n",
       "    .dataframe tbody tr th {\n",
       "        vertical-align: top;\n",
       "    }\n",
       "\n",
       "    .dataframe thead th {\n",
       "        text-align: right;\n",
       "    }\n",
       "</style>\n",
       "<table border=\"1\" class=\"dataframe\">\n",
       "  <thead>\n",
       "    <tr style=\"text-align: right;\">\n",
       "      <th></th>\n",
       "      <th>Rides</th>\n",
       "    </tr>\n",
       "  </thead>\n",
       "  <tbody>\n",
       "    <tr>\n",
       "      <th>count</th>\n",
       "      <td>20832.000000</td>\n",
       "    </tr>\n",
       "    <tr>\n",
       "      <th>mean</th>\n",
       "      <td>38.216254</td>\n",
       "    </tr>\n",
       "    <tr>\n",
       "      <th>std</th>\n",
       "      <td>111.317028</td>\n",
       "    </tr>\n",
       "    <tr>\n",
       "      <th>min</th>\n",
       "      <td>0.000000</td>\n",
       "    </tr>\n",
       "    <tr>\n",
       "      <th>25%</th>\n",
       "      <td>0.000000</td>\n",
       "    </tr>\n",
       "    <tr>\n",
       "      <th>50%</th>\n",
       "      <td>0.000000</td>\n",
       "    </tr>\n",
       "    <tr>\n",
       "      <th>75%</th>\n",
       "      <td>0.000000</td>\n",
       "    </tr>\n",
       "    <tr>\n",
       "      <th>max</th>\n",
       "      <td>915.000000</td>\n",
       "    </tr>\n",
       "  </tbody>\n",
       "</table>\n",
       "</div>"
      ],
      "text/plain": [
       "              Rides\n",
       "count  20832.000000\n",
       "mean      38.216254\n",
       "std      111.317028\n",
       "min        0.000000\n",
       "25%        0.000000\n",
       "50%        0.000000\n",
       "75%        0.000000\n",
       "max      915.000000"
      ]
     },
     "execution_count": 93,
     "metadata": {},
     "output_type": "execute_result"
    }
   ],
   "source": [
    "type(weekly_data_2),type(weekly_data)\n",
    "weekly_data.describe()    "
   ]
  },
  {
   "cell_type": "code",
   "execution_count": 105,
   "metadata": {},
   "outputs": [
    {
     "data": {
      "text/html": [
       "<div>\n",
       "<style scoped>\n",
       "    .dataframe tbody tr th:only-of-type {\n",
       "        vertical-align: middle;\n",
       "    }\n",
       "\n",
       "    .dataframe tbody tr th {\n",
       "        vertical-align: top;\n",
       "    }\n",
       "\n",
       "    .dataframe thead th {\n",
       "        text-align: right;\n",
       "    }\n",
       "</style>\n",
       "<table border=\"1\" class=\"dataframe\">\n",
       "  <thead>\n",
       "    <tr style=\"text-align: right;\">\n",
       "      <th></th>\n",
       "      <th>Days</th>\n",
       "      <th>Rides</th>\n",
       "      <th>Time</th>\n",
       "      <th>Rides</th>\n",
       "    </tr>\n",
       "  </thead>\n",
       "  <tbody>\n",
       "    <tr>\n",
       "      <th>0</th>\n",
       "      <td>Monday</td>\n",
       "      <td>93189.0</td>\n",
       "      <td>00:00:00</td>\n",
       "      <td>5212</td>\n",
       "    </tr>\n",
       "    <tr>\n",
       "      <th>1</th>\n",
       "      <td>Tuesday</td>\n",
       "      <td>137454.0</td>\n",
       "      <td>00:15:00</td>\n",
       "      <td>4683</td>\n",
       "    </tr>\n",
       "    <tr>\n",
       "      <th>2</th>\n",
       "      <td>Wednesday</td>\n",
       "      <td>147717.0</td>\n",
       "      <td>00:30:00</td>\n",
       "      <td>4303</td>\n",
       "    </tr>\n",
       "    <tr>\n",
       "      <th>3</th>\n",
       "      <td>Thursday</td>\n",
       "      <td>148439.0</td>\n",
       "      <td>00:45:00</td>\n",
       "      <td>3755</td>\n",
       "    </tr>\n",
       "    <tr>\n",
       "      <th>4</th>\n",
       "      <td>Friday</td>\n",
       "      <td>102735.0</td>\n",
       "      <td>01:00:00</td>\n",
       "      <td>3510</td>\n",
       "    </tr>\n",
       "    <tr>\n",
       "      <th>...</th>\n",
       "      <td>...</td>\n",
       "      <td>...</td>\n",
       "      <td>...</td>\n",
       "      <td>...</td>\n",
       "    </tr>\n",
       "    <tr>\n",
       "      <th>91</th>\n",
       "      <td>NaN</td>\n",
       "      <td>NaN</td>\n",
       "      <td>22:45:00</td>\n",
       "      <td>9602</td>\n",
       "    </tr>\n",
       "    <tr>\n",
       "      <th>92</th>\n",
       "      <td>NaN</td>\n",
       "      <td>NaN</td>\n",
       "      <td>23:00:00</td>\n",
       "      <td>8753</td>\n",
       "    </tr>\n",
       "    <tr>\n",
       "      <th>93</th>\n",
       "      <td>NaN</td>\n",
       "      <td>NaN</td>\n",
       "      <td>23:15:00</td>\n",
       "      <td>7570</td>\n",
       "    </tr>\n",
       "    <tr>\n",
       "      <th>94</th>\n",
       "      <td>NaN</td>\n",
       "      <td>NaN</td>\n",
       "      <td>23:30:00</td>\n",
       "      <td>6905</td>\n",
       "    </tr>\n",
       "    <tr>\n",
       "      <th>95</th>\n",
       "      <td>NaN</td>\n",
       "      <td>NaN</td>\n",
       "      <td>23:45:00</td>\n",
       "      <td>6118</td>\n",
       "    </tr>\n",
       "  </tbody>\n",
       "</table>\n",
       "<p>96 rows × 4 columns</p>\n",
       "</div>"
      ],
      "text/plain": [
       "         Days     Rides      Time  Rides\n",
       "0      Monday   93189.0  00:00:00   5212\n",
       "1     Tuesday  137454.0  00:15:00   4683\n",
       "2   Wednesday  147717.0  00:30:00   4303\n",
       "3    Thursday  148439.0  00:45:00   3755\n",
       "4      Friday  102735.0  01:00:00   3510\n",
       "..        ...       ...       ...    ...\n",
       "91        NaN       NaN  22:45:00   9602\n",
       "92        NaN       NaN  23:00:00   8753\n",
       "93        NaN       NaN  23:15:00   7570\n",
       "94        NaN       NaN  23:30:00   6905\n",
       "95        NaN       NaN  23:45:00   6118\n",
       "\n",
       "[96 rows x 4 columns]"
      ]
     },
     "execution_count": 105,
     "metadata": {},
     "output_type": "execute_result"
    }
   ],
   "source": [
    "by_day = weekly_data.groupby('Days').agg(\"sum\")\n",
    "by_time = weekly_data.groupby('Time').agg(\"sum\")\n",
    "pd.concat([by_day.reset_index(),by_time.reset_index()],axis=1)"
   ]
  },
  {
   "cell_type": "markdown",
   "metadata": {},
   "source": [
    "#### On sauvegarde les donnees pour continuer l'analyse avec R \n",
    "<h3 style=\"color : #e74c3c\">Voir R_part</h3>"
   ]
  },
  {
   "cell_type": "code",
   "execution_count": 116,
   "metadata": {},
   "outputs": [],
   "source": [
    "# by_time.to_csv('./R_Part/by_time.csv')\n",
    "# by_day.to_csv('./R_Part/by_day.csv')\n",
    "# weekly_data.to_csv('./R_Part/weekly_data.csv')\n",
    "# Visualizer.data.to_csv('./R_Part/data.csv')"
   ]
  },
  {
   "cell_type": "code",
   "execution_count": 124,
   "metadata": {},
   "outputs": [
    {
     "data": {
      "text/plain": [
       "Date        Days    Time      Rides\n",
       "2014-07-01  Monday  00:00:00  0        1\n",
       "2014-07-21  Monday  16:45:00  455      1\n",
       "                    14:30:00  324      1\n",
       "                    14:45:00  303      1\n",
       "                    15:00:00  323      1\n",
       "                                      ..\n",
       "2014-07-11  Monday  08:30:00  0        1\n",
       "                    08:45:00  0        1\n",
       "                    09:00:00  0        1\n",
       "                    09:15:00  0        1\n",
       "2014-07-31  Monday  23:45:00  0        1\n",
       "Length: 2976, dtype: int64"
      ]
     },
     "execution_count": 124,
     "metadata": {},
     "output_type": "execute_result"
    }
   ],
   "source": [
    "weekly_data[weekly_data.Days == \"Monday\"].value_counts()"
   ]
  },
  {
   "cell_type": "code",
   "execution_count": 133,
   "metadata": {},
   "outputs": [
    {
     "data": {
      "text/html": [
       "<div>\n",
       "<style scoped>\n",
       "    .dataframe tbody tr th:only-of-type {\n",
       "        vertical-align: middle;\n",
       "    }\n",
       "\n",
       "    .dataframe tbody tr th {\n",
       "        vertical-align: top;\n",
       "    }\n",
       "\n",
       "    .dataframe thead th {\n",
       "        text-align: right;\n",
       "    }\n",
       "</style>\n",
       "<table border=\"1\" class=\"dataframe\">\n",
       "  <thead>\n",
       "    <tr style=\"text-align: right;\">\n",
       "      <th></th>\n",
       "      <th>Days</th>\n",
       "      <th>Time</th>\n",
       "      <th>Rides</th>\n",
       "    </tr>\n",
       "  </thead>\n",
       "  <tbody>\n",
       "    <tr>\n",
       "      <th>384</th>\n",
       "      <td>Friday</td>\n",
       "      <td>00:00:00</td>\n",
       "      <td>24.677419</td>\n",
       "    </tr>\n",
       "    <tr>\n",
       "      <th>385</th>\n",
       "      <td>Friday</td>\n",
       "      <td>00:15:00</td>\n",
       "      <td>19.870968</td>\n",
       "    </tr>\n",
       "    <tr>\n",
       "      <th>386</th>\n",
       "      <td>Friday</td>\n",
       "      <td>00:30:00</td>\n",
       "      <td>19.096774</td>\n",
       "    </tr>\n",
       "    <tr>\n",
       "      <th>387</th>\n",
       "      <td>Friday</td>\n",
       "      <td>00:45:00</td>\n",
       "      <td>15.709677</td>\n",
       "    </tr>\n",
       "    <tr>\n",
       "      <th>388</th>\n",
       "      <td>Friday</td>\n",
       "      <td>01:00:00</td>\n",
       "      <td>15.483871</td>\n",
       "    </tr>\n",
       "    <tr>\n",
       "      <th>...</th>\n",
       "      <td>...</td>\n",
       "      <td>...</td>\n",
       "      <td>...</td>\n",
       "    </tr>\n",
       "    <tr>\n",
       "      <th>475</th>\n",
       "      <td>Friday</td>\n",
       "      <td>22:45:00</td>\n",
       "      <td>58.096774</td>\n",
       "    </tr>\n",
       "    <tr>\n",
       "      <th>476</th>\n",
       "      <td>Friday</td>\n",
       "      <td>23:00:00</td>\n",
       "      <td>56.129032</td>\n",
       "    </tr>\n",
       "    <tr>\n",
       "      <th>477</th>\n",
       "      <td>Friday</td>\n",
       "      <td>23:15:00</td>\n",
       "      <td>48.935484</td>\n",
       "    </tr>\n",
       "    <tr>\n",
       "      <th>478</th>\n",
       "      <td>Friday</td>\n",
       "      <td>23:30:00</td>\n",
       "      <td>46.612903</td>\n",
       "    </tr>\n",
       "    <tr>\n",
       "      <th>479</th>\n",
       "      <td>Friday</td>\n",
       "      <td>23:45:00</td>\n",
       "      <td>44.354839</td>\n",
       "    </tr>\n",
       "  </tbody>\n",
       "</table>\n",
       "<p>96 rows × 3 columns</p>\n",
       "</div>"
      ],
      "text/plain": [
       "       Days      Time      Rides\n",
       "384  Friday  00:00:00  24.677419\n",
       "385  Friday  00:15:00  19.870968\n",
       "386  Friday  00:30:00  19.096774\n",
       "387  Friday  00:45:00  15.709677\n",
       "388  Friday  01:00:00  15.483871\n",
       "..      ...       ...        ...\n",
       "475  Friday  22:45:00  58.096774\n",
       "476  Friday  23:00:00  56.129032\n",
       "477  Friday  23:15:00  48.935484\n",
       "478  Friday  23:30:00  46.612903\n",
       "479  Friday  23:45:00  44.354839\n",
       "\n",
       "[96 rows x 3 columns]"
      ]
     },
     "execution_count": 133,
     "metadata": {},
     "output_type": "execute_result"
    }
   ],
   "source": [
    "weekly_data_2 = weekly_data.groupby(['Days','Time']).mean()['Rides']\n",
    "weekly_data_2.reset_index()[weekly_data_2.reset_index().Days == \"Friday\"].head(5)\n"
   ]
  }
 ],
 "metadata": {
  "interpreter": {
   "hash": "11938c6bc6919ae2720b4d5011047913343b08a43b18698fd82dedb0d4417594"
  },
  "kernelspec": {
   "display_name": "Python 3",
   "language": "python",
   "name": "python3"
  },
  "language_info": {
   "codemirror_mode": {
    "name": "ipython",
    "version": 3
   },
   "file_extension": ".py",
   "mimetype": "text/x-python",
   "name": "python",
   "nbconvert_exporter": "python",
   "pygments_lexer": "ipython3",
   "version": "3.8.8"
  }
 },
 "nbformat": 4,
 "nbformat_minor": 2
}
